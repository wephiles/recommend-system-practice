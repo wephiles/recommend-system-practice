{
 "cells": [
  {
   "cell_type": "markdown",
   "id": "b48fd672",
   "metadata": {
    "collapsed": true
   },
   "source": [
    "# UserIIF"
   ]
  },
  {
   "attachments": {
    "image.png": {
     "image/png": "[encoded data removed]"
    }
   },
   "cell_type": "markdown",
   "id": "40398905",
   "metadata": {},
   "source": [
    "在User-CF的基础上考虑了物品的流行度，流行度越大，惩罚力度越大。  \n",
    "相似度：![image.png](attachment:image.png)"
   ]
  },
  {
   "cell_type": "markdown",
   "id": "57ff5d8a",
   "metadata": {},
   "source": [
    "## 载入数据"
   ]
  },
  {
   "cell_type": "code",
   "execution_count": 1,
   "id": "72c84b2f",
   "metadata": {},
   "outputs": [],
   "source": [
    "from RecommendSystemUserIIF.recommend import user_iif\n",
    "from importlib import reload\n",
    "from RecommendSystemUserIIF.util import data_reader"
   ]
  },
  {
   "cell_type": "markdown",
   "id": "e8a60023",
   "metadata": {},
   "source": [
    "## 划分数据集"
   ]
  },
  {
   "cell_type": "code",
   "execution_count": 2,
   "id": "eec95fc0",
   "metadata": {},
   "outputs": [],
   "source": [
    "train_set, test_set = data_reader.split_dataset(data_path=r\"./RecommendSystemUserIIF/data/ml-100k/u.data\", train_rate=0.8, seed=2024)"
   ]
  },
  {
   "cell_type": "markdown",
   "id": "b55bb454",
   "metadata": {},
   "source": [
    "## 训练"
   ]
  },
  {
   "cell_type": "code",
   "execution_count": 3,
   "id": "b0406835",
   "metadata": {},
   "outputs": [
    {
     "name": "stdout",
     "output_type": "stream",
     "text": [
      "正在初始化原始训练数据...\n",
      "初始化原始训练数据完毕！\n"
     ]
    },
    {
     "name": "stderr",
     "output_type": "stream",
     "text": [
      "模型开始训练...\n",
      "载入用户协同矩阵...\n",
      "载入用户协同矩阵完成！\n",
      "保存用户协同矩阵...\n",
      "保存用户协同矩阵完成！\n",
      "模型训练结束！\n"
     ]
    }
   ],
   "source": [
    "useriif = user_iif.UserIIF()\n",
    "useriif.train(origin_data=train_set, sim_matrix_path=r\"./RecommendSystemUserIIF/data/user_sim.pkl\")"
   ]
  },
  {
   "cell_type": "markdown",
   "id": "29d79f61",
   "metadata": {},
   "source": [
    "## 评估\n"
   ]
  },
  {
   "cell_type": "code",
   "execution_count": 4,
   "id": "c2503558",
   "metadata": {},
   "outputs": [],
   "source": [
    "test = dict()\n",
    "for user, item, _ in test_set:\n",
    "    test.setdefault(user, list())\n",
    "    test[user].append(item)"
   ]
  },
  {
   "cell_type": "code",
   "execution_count": 5,
   "id": "be7f23d7",
   "metadata": {},
   "outputs": [],
   "source": [
    "def train_popularity():\n",
    "    \"\"\"计算训练集的流行度\"\"\"\n",
    "    train_popularity = dict()\n",
    "    for user,item,_ in train:\n",
    "        train_popularity.setdefault(item,0)\n",
    "        train_popularity[item] += 1\n",
    "    return train_popularity"
   ]
  },
  {
   "cell_type": "code",
   "execution_count": 6,
   "id": "5ccfeacf",
   "metadata": {},
   "outputs": [],
   "source": [
    "from RecommendSystemUserIIF.util import metric\n",
    "from RecommendSystemUserIIF.util import data_reader\n",
    "import pandas as pd\n",
    "\n",
    "def evaluate(N,K):\n",
    "    \"\"\"评价模型\n",
    "        Args:\n",
    "            N:　　　　推荐的商品个数\n",
    "            K:　　　　搜索邻近的用户个数\n",
    "        Return:\n",
    "            精确率,召回率,覆盖率,流行度\n",
    "    \"\"\"\n",
    "    recommens = useriif.recommend_users(test.keys(),N = N,K = K)\n",
    "    all_items = data_reader.all_items()\n",
    "    item_popularity = train_popularity(trainset)\n",
    "\n",
    "    recall = metric.recall(recommends = recommens,tests=test)\n",
    "    precision = metric.precision(recommends = recommens,tests = test)\n",
    "    coverage = metric.coverage(recommends = recommens,all_items = all_items)\n",
    "    popularity = metric.popularity(item_popular = item_popularity,recommends = recommens)\n",
    "    \n",
    "    return precision,recall,coverage,popularity"
   ]
  },
  {
   "cell_type": "code",
   "execution_count": 7,
   "id": "b2f5a505",
   "metadata": {
    "scrolled": true
   },
   "outputs": [
    {
     "name": "stdout",
     "output_type": "stream",
     "text": [
      "推荐算法运行中...\n"
     ]
    },
    {
     "ename": "AttributeError",
     "evalue": "'NoneType' object has no attribute 'get'",
     "output_type": "error",
     "traceback": [
      "\u001b[1;31m---------------------------------------------------------------------------\u001b[0m",
      "\u001b[1;31mAttributeError\u001b[0m                            Traceback (most recent call last)",
      "Cell \u001b[1;32mIn[7], line 6\u001b[0m\n\u001b[0;32m      3\u001b[0m evals \u001b[38;5;241m=\u001b[39m \u001b[38;5;28mlist\u001b[39m()\n\u001b[0;32m      5\u001b[0m \u001b[38;5;28;01mfor\u001b[39;00m k \u001b[38;5;129;01min\u001b[39;00m K_list:\n\u001b[1;32m----> 6\u001b[0m     single_eval \u001b[38;5;241m=\u001b[39m evaluate(N \u001b[38;5;241m=\u001b[39m N,K \u001b[38;5;241m=\u001b[39m k)\n\u001b[0;32m      7\u001b[0m     evals\u001b[38;5;241m.\u001b[39mappend(single_eval)\n",
      "Cell \u001b[1;32mIn[6], line 13\u001b[0m, in \u001b[0;36mevaluate\u001b[1;34m(N, K)\u001b[0m\n\u001b[0;32m      5\u001b[0m \u001b[38;5;28;01mdef\u001b[39;00m \u001b[38;5;21mevaluate\u001b[39m(N,K):\n\u001b[0;32m      6\u001b[0m \u001b[38;5;250m    \u001b[39m\u001b[38;5;124;03m\"\"\"评价模型\u001b[39;00m\n\u001b[0;32m      7\u001b[0m \u001b[38;5;124;03m        Args:\u001b[39;00m\n\u001b[0;32m      8\u001b[0m \u001b[38;5;124;03m            N:　　　　推荐的商品个数\u001b[39;00m\n\u001b[1;32m   (...)\u001b[0m\n\u001b[0;32m     11\u001b[0m \u001b[38;5;124;03m            精确率,召回率,覆盖率,流行度\u001b[39;00m\n\u001b[0;32m     12\u001b[0m \u001b[38;5;124;03m    \"\"\"\u001b[39;00m\n\u001b[1;32m---> 13\u001b[0m     recommens \u001b[38;5;241m=\u001b[39m useriif\u001b[38;5;241m.\u001b[39mrecommend_users(test\u001b[38;5;241m.\u001b[39mkeys(),N \u001b[38;5;241m=\u001b[39m N,K \u001b[38;5;241m=\u001b[39m K)\n\u001b[0;32m     14\u001b[0m     all_items \u001b[38;5;241m=\u001b[39m data_reader\u001b[38;5;241m.\u001b[39mall_items()\n\u001b[0;32m     15\u001b[0m     item_popularity \u001b[38;5;241m=\u001b[39m train_popularity(trainset)\n",
      "File \u001b[1;32mD:\\CSProjects\\JupyterProjects\\Recommender Sysytem\\RecommendSystem\\RecommendSystemUserIIF\\recommend\\user_iif.py:139\u001b[0m, in \u001b[0;36mUserIIF.recommend_users\u001b[1;34m(self, users, N, K)\u001b[0m\n\u001b[0;32m    136\u001b[0m recommends \u001b[38;5;241m=\u001b[39m \u001b[38;5;28mdict\u001b[39m()\n\u001b[0;32m    138\u001b[0m \u001b[38;5;28;01mfor\u001b[39;00m user \u001b[38;5;129;01min\u001b[39;00m users:\n\u001b[1;32m--> 139\u001b[0m     user_recommends \u001b[38;5;241m=\u001b[39m \u001b[38;5;28mlist\u001b[39m(\u001b[38;5;28mself\u001b[39m\u001b[38;5;241m.\u001b[39mrecommend(user, N, K)\u001b[38;5;241m.\u001b[39mkeys())\n\u001b[0;32m    140\u001b[0m     recommends[user] \u001b[38;5;241m=\u001b[39m user_recommends\n\u001b[0;32m    141\u001b[0m \u001b[38;5;28;01mreturn\u001b[39;00m recommends\n",
      "File \u001b[1;32mD:\\CSProjects\\JupyterProjects\\Recommender Sysytem\\RecommendSystem\\RecommendSystemUserIIF\\recommend\\user_iif.py:117\u001b[0m, in \u001b[0;36mUserIIF.recommend\u001b[1;34m(self, user, N, K)\u001b[0m\n\u001b[0;32m    115\u001b[0m related_items \u001b[38;5;241m=\u001b[39m \u001b[38;5;28mself\u001b[39m\u001b[38;5;241m.\u001b[39mtrain\u001b[38;5;241m.\u001b[39mget(user, \u001b[38;5;28mset\u001b[39m)\n\u001b[0;32m    116\u001b[0m recommends \u001b[38;5;241m=\u001b[39m \u001b[38;5;28mdict\u001b[39m()\n\u001b[1;32m--> 117\u001b[0m \u001b[38;5;28;01mfor\u001b[39;00m v, sim \u001b[38;5;129;01min\u001b[39;00m \u001b[38;5;28msorted\u001b[39m(\u001b[38;5;28mself\u001b[39m\u001b[38;5;241m.\u001b[39muser_sim_matrix\u001b[38;5;241m.\u001b[39mget(user, \u001b[38;5;28mdict\u001b[39m)\u001b[38;5;241m.\u001b[39mitems(),\n\u001b[0;32m    118\u001b[0m                      key\u001b[38;5;241m=\u001b[39mitemgetter(\u001b[38;5;241m1\u001b[39m),\n\u001b[0;32m    119\u001b[0m                      reverse\u001b[38;5;241m=\u001b[39m\u001b[38;5;28;01mTrue\u001b[39;00m)[:K]:\n\u001b[0;32m    120\u001b[0m     \u001b[38;5;28;01mfor\u001b[39;00m item \u001b[38;5;129;01min\u001b[39;00m \u001b[38;5;28mself\u001b[39m\u001b[38;5;241m.\u001b[39mtrain[v]:\n\u001b[0;32m    121\u001b[0m         \u001b[38;5;28;01mif\u001b[39;00m item \u001b[38;5;129;01min\u001b[39;00m related_items:\n",
      "\u001b[1;31mAttributeError\u001b[0m: 'NoneType' object has no attribute 'get'"
     ]
    }
   ],
   "source": [
    "N = 30   #表示推荐的商品个数\n",
    "K_list = [5,10,20,40,80,160]  #表示临近用户的list\n",
    "evals = list()\n",
    "\n",
    "for k in K_list:\n",
    "    single_eval = evaluate(N = N,K = k)\n",
    "    evals.append(single_eval)"
   ]
  },
  {
   "cell_type": "code",
   "execution_count": null,
   "id": "bc8d6b42",
   "metadata": {},
   "outputs": [],
   "source": [
    "pd.DataFrame(\n",
    "        data = evals,\n",
    "        index = K_list,\n",
    "        columns = [\"Precision\",\"Recall\",\"Coverage\",\"Popularity\"]\n",
    ")"
   ]
  },
  {
   "cell_type": "code",
   "execution_count": null,
   "id": "551659ef",
   "metadata": {},
   "outputs": [],
   "source": []
  },
  {
   "cell_type": "code",
   "execution_count": null,
   "id": "d0a10be7",
   "metadata": {},
   "outputs": [],
   "source": []
  }
 ],
 "metadata": {
  "kernelspec": {
   "display_name": "Python 3 (ipykernel)",
   "language": "python",
   "name": "python3"
  },
  "language_info": {
   "codemirror_mode": {
    "name": "ipython",
    "version": 3
   },
   "file_extension": ".py",
   "mimetype": "text/x-python",
   "name": "python",
   "nbconvert_exporter": "python",
   "pygments_lexer": "ipython3",
   "version": "3.11.5"
  },
  "toc": {
   "base_numbering": 1,
   "nav_menu": {},
   "number_sections": true,
   "sideBar": true,
   "skip_h1_title": false,
   "title_cell": "Table of Contents",
   "title_sidebar": "Contents",
   "toc_cell": false,
   "toc_position": {},
   "toc_section_display": true,
   "toc_window_display": false
  }
 },
 "nbformat": 4,
 "nbformat_minor": 5
}
