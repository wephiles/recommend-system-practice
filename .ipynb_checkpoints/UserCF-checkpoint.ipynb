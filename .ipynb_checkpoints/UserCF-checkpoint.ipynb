{
 "cells": [
  {
   "cell_type": "markdown",
   "id": "2c3b9f71",
   "metadata": {},
   "source": [
    "# 推荐系统-基于用户"
   ]
  },
  {
   "cell_type": "markdown",
   "id": "b233f8e2",
   "metadata": {},
   "source": [
    "## 导入数据"
   ]
  },
  {
   "cell_type": "code",
   "execution_count": 1,
   "id": "08760482",
   "metadata": {},
   "outputs": [],
   "source": [
    "import pandas as pd"
   ]
  },
  {
   "cell_type": "code",
   "execution_count": 2,
   "id": "d1915e06",
   "metadata": {},
   "outputs": [],
   "source": [
    "from RecommendSystemUserCF.utils.data_reader import read_rating_data\n",
    "from RecommendSystemUserCF.utils import data_reader"
   ]
  },
  {
   "cell_type": "code",
   "execution_count": 3,
   "id": "58994274",
   "metadata": {},
   "outputs": [
    {
     "data": {
      "text/html": [
       "<div>\n",
       "<style scoped>\n",
       "    .dataframe tbody tr th:only-of-type {\n",
       "        vertical-align: middle;\n",
       "    }\n",
       "\n",
       "    .dataframe tbody tr th {\n",
       "        vertical-align: top;\n",
       "    }\n",
       "\n",
       "    .dataframe thead th {\n",
       "        text-align: right;\n",
       "    }\n",
       "</style>\n",
       "<table border=\"1\" class=\"dataframe\">\n",
       "  <thead>\n",
       "    <tr style=\"text-align: right;\">\n",
       "      <th></th>\n",
       "      <th>userID</th>\n",
       "      <th>movieID</th>\n",
       "      <th>Rating</th>\n",
       "    </tr>\n",
       "  </thead>\n",
       "  <tbody>\n",
       "    <tr>\n",
       "      <th>0</th>\n",
       "      <td>196</td>\n",
       "      <td>242</td>\n",
       "      <td>3</td>\n",
       "    </tr>\n",
       "    <tr>\n",
       "      <th>1</th>\n",
       "      <td>186</td>\n",
       "      <td>302</td>\n",
       "      <td>3</td>\n",
       "    </tr>\n",
       "    <tr>\n",
       "      <th>2</th>\n",
       "      <td>22</td>\n",
       "      <td>377</td>\n",
       "      <td>1</td>\n",
       "    </tr>\n",
       "    <tr>\n",
       "      <th>3</th>\n",
       "      <td>244</td>\n",
       "      <td>51</td>\n",
       "      <td>2</td>\n",
       "    </tr>\n",
       "    <tr>\n",
       "      <th>4</th>\n",
       "      <td>166</td>\n",
       "      <td>346</td>\n",
       "      <td>1</td>\n",
       "    </tr>\n",
       "    <tr>\n",
       "      <th>5</th>\n",
       "      <td>298</td>\n",
       "      <td>474</td>\n",
       "      <td>4</td>\n",
       "    </tr>\n",
       "    <tr>\n",
       "      <th>6</th>\n",
       "      <td>115</td>\n",
       "      <td>265</td>\n",
       "      <td>2</td>\n",
       "    </tr>\n",
       "    <tr>\n",
       "      <th>7</th>\n",
       "      <td>253</td>\n",
       "      <td>465</td>\n",
       "      <td>5</td>\n",
       "    </tr>\n",
       "    <tr>\n",
       "      <th>8</th>\n",
       "      <td>305</td>\n",
       "      <td>451</td>\n",
       "      <td>3</td>\n",
       "    </tr>\n",
       "    <tr>\n",
       "      <th>9</th>\n",
       "      <td>6</td>\n",
       "      <td>86</td>\n",
       "      <td>3</td>\n",
       "    </tr>\n",
       "  </tbody>\n",
       "</table>\n",
       "</div>"
      ],
      "text/plain": [
       "  userID movieID Rating\n",
       "0    196     242      3\n",
       "1    186     302      3\n",
       "2     22     377      1\n",
       "3    244      51      2\n",
       "4    166     346      1\n",
       "5    298     474      4\n",
       "6    115     265      2\n",
       "7    253     465      5\n",
       "8    305     451      3\n",
       "9      6      86      3"
      ]
     },
     "execution_count": 3,
     "metadata": {},
     "output_type": "execute_result"
    }
   ],
   "source": [
    "movielen_data = data_reader.read_all_data(\"./RecommendSystemUserCF/data/ml-100k/u.data\")\n",
    "movielen_df = pd.DataFrame(movielen_data, columns = [\"userID\",\"movieID\",\"Rating\"])\n",
    "movielen_df.head(10)"
   ]
  },
  {
   "cell_type": "markdown",
   "id": "196ae977",
   "metadata": {},
   "source": []
  },
  {
   "cell_type": "markdown",
   "id": "92c4d51e",
   "metadata": {},
   "source": [
    "## 用户行为分析"
   ]
  },
  {
   "cell_type": "markdown",
   "id": "cd3a353a",
   "metadata": {},
   "source": [
    "### 用户活跃度和物品流行度"
   ]
  },
  {
   "cell_type": "code",
   "execution_count": 4,
   "id": "dd86c87a",
   "metadata": {},
   "outputs": [],
   "source": [
    "import numpy as np"
   ]
  },
  {
   "cell_type": "code",
   "execution_count": 5,
   "id": "23d74afc",
   "metadata": {},
   "outputs": [
    {
     "data": {
      "text/html": [
       "<div>\n",
       "<style scoped>\n",
       "    .dataframe tbody tr th:only-of-type {\n",
       "        vertical-align: middle;\n",
       "    }\n",
       "\n",
       "    .dataframe tbody tr th {\n",
       "        vertical-align: top;\n",
       "    }\n",
       "\n",
       "    .dataframe thead th {\n",
       "        text-align: right;\n",
       "    }\n",
       "</style>\n",
       "<table border=\"1\" class=\"dataframe\">\n",
       "  <thead>\n",
       "    <tr style=\"text-align: right;\">\n",
       "      <th></th>\n",
       "      <th>movieID</th>\n",
       "      <th>userID</th>\n",
       "    </tr>\n",
       "  </thead>\n",
       "  <tbody>\n",
       "    <tr>\n",
       "      <th>0</th>\n",
       "      <td>1</td>\n",
       "      <td>452</td>\n",
       "    </tr>\n",
       "    <tr>\n",
       "      <th>1</th>\n",
       "      <td>10</td>\n",
       "      <td>89</td>\n",
       "    </tr>\n",
       "    <tr>\n",
       "      <th>2</th>\n",
       "      <td>100</td>\n",
       "      <td>508</td>\n",
       "    </tr>\n",
       "    <tr>\n",
       "      <th>3</th>\n",
       "      <td>1000</td>\n",
       "      <td>10</td>\n",
       "    </tr>\n",
       "    <tr>\n",
       "      <th>4</th>\n",
       "      <td>1001</td>\n",
       "      <td>17</td>\n",
       "    </tr>\n",
       "    <tr>\n",
       "      <th>5</th>\n",
       "      <td>1002</td>\n",
       "      <td>8</td>\n",
       "    </tr>\n",
       "    <tr>\n",
       "      <th>6</th>\n",
       "      <td>1003</td>\n",
       "      <td>8</td>\n",
       "    </tr>\n",
       "    <tr>\n",
       "      <th>7</th>\n",
       "      <td>1004</td>\n",
       "      <td>9</td>\n",
       "    </tr>\n",
       "    <tr>\n",
       "      <th>8</th>\n",
       "      <td>1005</td>\n",
       "      <td>22</td>\n",
       "    </tr>\n",
       "    <tr>\n",
       "      <th>9</th>\n",
       "      <td>1006</td>\n",
       "      <td>23</td>\n",
       "    </tr>\n",
       "    <tr>\n",
       "      <th>10</th>\n",
       "      <td>1007</td>\n",
       "      <td>47</td>\n",
       "    </tr>\n",
       "    <tr>\n",
       "      <th>11</th>\n",
       "      <td>1008</td>\n",
       "      <td>37</td>\n",
       "    </tr>\n",
       "    <tr>\n",
       "      <th>12</th>\n",
       "      <td>1009</td>\n",
       "      <td>64</td>\n",
       "    </tr>\n",
       "    <tr>\n",
       "      <th>13</th>\n",
       "      <td>101</td>\n",
       "      <td>73</td>\n",
       "    </tr>\n",
       "    <tr>\n",
       "      <th>14</th>\n",
       "      <td>1010</td>\n",
       "      <td>44</td>\n",
       "    </tr>\n",
       "    <tr>\n",
       "      <th>15</th>\n",
       "      <td>1011</td>\n",
       "      <td>93</td>\n",
       "    </tr>\n",
       "    <tr>\n",
       "      <th>16</th>\n",
       "      <td>1012</td>\n",
       "      <td>100</td>\n",
       "    </tr>\n",
       "    <tr>\n",
       "      <th>17</th>\n",
       "      <td>1013</td>\n",
       "      <td>38</td>\n",
       "    </tr>\n",
       "    <tr>\n",
       "      <th>18</th>\n",
       "      <td>1014</td>\n",
       "      <td>98</td>\n",
       "    </tr>\n",
       "    <tr>\n",
       "      <th>19</th>\n",
       "      <td>1015</td>\n",
       "      <td>12</td>\n",
       "    </tr>\n",
       "  </tbody>\n",
       "</table>\n",
       "</div>"
      ],
      "text/plain": [
       "   movieID  userID\n",
       "0        1     452\n",
       "1       10      89\n",
       "2      100     508\n",
       "3     1000      10\n",
       "4     1001      17\n",
       "5     1002       8\n",
       "6     1003       8\n",
       "7     1004       9\n",
       "8     1005      22\n",
       "9     1006      23\n",
       "10    1007      47\n",
       "11    1008      37\n",
       "12    1009      64\n",
       "13     101      73\n",
       "14    1010      44\n",
       "15    1011      93\n",
       "16    1012     100\n",
       "17    1013      38\n",
       "18    1014      98\n",
       "19    1015      12"
      ]
     },
     "execution_count": 5,
     "metadata": {},
     "output_type": "execute_result"
    }
   ],
   "source": [
    "sum_movie_rating = (\n",
    "    movielen_df[[\"userID\", \"movieID\"]].groupby([\"movieID\"], as_index=False).count()\n",
    ")\n",
    "\n",
    "# print(sum_movie_rating)\n",
    "sum_movie_rating.head(20)"
   ]
  },
  {
   "cell_type": "code",
   "execution_count": 6,
   "id": "16bd849e",
   "metadata": {},
   "outputs": [
    {
     "name": "stdout",
     "output_type": "stream",
     "text": [
      "     movieID  Item Popularity\n",
      "0          1              452\n",
      "1         10               89\n",
      "2        100              508\n",
      "3       1000               10\n",
      "4       1001               17\n",
      "...      ...              ...\n",
      "1677     995               31\n",
      "1678     996               14\n",
      "1679     997               16\n",
      "1680     998               16\n",
      "1681     999               10\n",
      "\n",
      "[1682 rows x 2 columns]\n",
      "<class 'pandas.core.frame.DataFrame'>\n"
     ]
    }
   ],
   "source": [
    "sum_movie_rating.rename(\n",
    "    mapper = {\"userID\": \"Item Popularity\"},\n",
    "    axis = 1,\n",
    "    inplace = True\n",
    ")\n",
    "\n",
    "print(sum_movie_rating)\n",
    "print(type(sum_movie_rating))"
   ]
  },
  {
   "cell_type": "code",
   "execution_count": 7,
   "id": "311b3c70",
   "metadata": {},
   "outputs": [
    {
     "data": {
      "text/html": [
       "<div>\n",
       "<style scoped>\n",
       "    .dataframe tbody tr th:only-of-type {\n",
       "        vertical-align: middle;\n",
       "    }\n",
       "\n",
       "    .dataframe tbody tr th {\n",
       "        vertical-align: top;\n",
       "    }\n",
       "\n",
       "    .dataframe thead th {\n",
       "        text-align: right;\n",
       "    }\n",
       "</style>\n",
       "<table border=\"1\" class=\"dataframe\">\n",
       "  <thead>\n",
       "    <tr style=\"text-align: right;\">\n",
       "      <th></th>\n",
       "      <th>Item Popularity</th>\n",
       "      <th>movieID</th>\n",
       "    </tr>\n",
       "  </thead>\n",
       "  <tbody>\n",
       "    <tr>\n",
       "      <th>268</th>\n",
       "      <td>485</td>\n",
       "      <td>1</td>\n",
       "    </tr>\n",
       "    <tr>\n",
       "      <th>269</th>\n",
       "      <td>507</td>\n",
       "      <td>1</td>\n",
       "    </tr>\n",
       "    <tr>\n",
       "      <th>270</th>\n",
       "      <td>508</td>\n",
       "      <td>1</td>\n",
       "    </tr>\n",
       "    <tr>\n",
       "      <th>271</th>\n",
       "      <td>509</td>\n",
       "      <td>1</td>\n",
       "    </tr>\n",
       "    <tr>\n",
       "      <th>272</th>\n",
       "      <td>583</td>\n",
       "      <td>1</td>\n",
       "    </tr>\n",
       "  </tbody>\n",
       "</table>\n",
       "</div>"
      ],
      "text/plain": [
       "     Item Popularity  movieID\n",
       "268              485        1\n",
       "269              507        1\n",
       "270              508        1\n",
       "271              509        1\n",
       "272              583        1"
      ]
     },
     "execution_count": 7,
     "metadata": {},
     "output_type": "execute_result"
    }
   ],
   "source": [
    "sum_movie_rating = sum_movie_rating.groupby(\"Item Popularity\", as_index=False).count()\n",
    "# print(sum_movie_rating)\n",
    "# print(type(sum_movie_rating))\n",
    "# sum_movie_rating.head(20)\n",
    "sum_movie_rating.tail()"
   ]
  },
  {
   "cell_type": "code",
   "execution_count": 8,
   "id": "a0e2fb01",
   "metadata": {},
   "outputs": [
    {
     "name": "stdout",
     "output_type": "stream",
     "text": [
      "     Item Popularity  counts\n",
      "0                  1     141\n",
      "1                  2      68\n",
      "2                  3      60\n",
      "3                  4      64\n",
      "4                  5      51\n",
      "..               ...     ...\n",
      "268              485       1\n",
      "269              507       1\n",
      "270              508       1\n",
      "271              509       1\n",
      "272              583       1\n",
      "\n",
      "[273 rows x 2 columns]\n",
      "<class 'pandas.core.frame.DataFrame'>\n"
     ]
    }
   ],
   "source": [
    "sum_movie_rating.rename(\n",
    "    mapper = {\"movieID\": \"counts\"},\n",
    "    axis = 1,\n",
    "    inplace = True\n",
    ")\n",
    "print(sum_movie_rating)\n",
    "print(type(sum_movie_rating))"
   ]
  },
  {
   "cell_type": "code",
   "execution_count": 9,
   "id": "a5d1b200",
   "metadata": {
    "scrolled": true
   },
   "outputs": [
    {
     "name": "stdout",
     "output_type": "stream",
     "text": [
      "     Item Popularity  counts  log_Item_Popularity\n",
      "0                  1     141             0.000000\n",
      "1                  2      68             0.301030\n",
      "2                  3      60             0.477121\n",
      "3                  4      64             0.602060\n",
      "4                  5      51             0.698970\n",
      "..               ...     ...                  ...\n",
      "268              485       1             2.685742\n",
      "269              507       1             2.705008\n",
      "270              508       1             2.705864\n",
      "271              509       1             2.706718\n",
      "272              583       1             2.765669\n",
      "\n",
      "[273 rows x 3 columns]\n",
      "<class 'pandas.core.frame.DataFrame'>\n"
     ]
    },
    {
     "data": {
      "text/html": [
       "<div>\n",
       "<style scoped>\n",
       "    .dataframe tbody tr th:only-of-type {\n",
       "        vertical-align: middle;\n",
       "    }\n",
       "\n",
       "    .dataframe tbody tr th {\n",
       "        vertical-align: top;\n",
       "    }\n",
       "\n",
       "    .dataframe thead th {\n",
       "        text-align: right;\n",
       "    }\n",
       "</style>\n",
       "<table border=\"1\" class=\"dataframe\">\n",
       "  <thead>\n",
       "    <tr style=\"text-align: right;\">\n",
       "      <th></th>\n",
       "      <th>Item Popularity</th>\n",
       "      <th>counts</th>\n",
       "      <th>log_Item_Popularity</th>\n",
       "    </tr>\n",
       "  </thead>\n",
       "  <tbody>\n",
       "    <tr>\n",
       "      <th>0</th>\n",
       "      <td>1</td>\n",
       "      <td>141</td>\n",
       "      <td>0.000000</td>\n",
       "    </tr>\n",
       "    <tr>\n",
       "      <th>1</th>\n",
       "      <td>2</td>\n",
       "      <td>68</td>\n",
       "      <td>0.301030</td>\n",
       "    </tr>\n",
       "    <tr>\n",
       "      <th>2</th>\n",
       "      <td>3</td>\n",
       "      <td>60</td>\n",
       "      <td>0.477121</td>\n",
       "    </tr>\n",
       "    <tr>\n",
       "      <th>3</th>\n",
       "      <td>4</td>\n",
       "      <td>64</td>\n",
       "      <td>0.602060</td>\n",
       "    </tr>\n",
       "    <tr>\n",
       "      <th>4</th>\n",
       "      <td>5</td>\n",
       "      <td>51</td>\n",
       "      <td>0.698970</td>\n",
       "    </tr>\n",
       "  </tbody>\n",
       "</table>\n",
       "</div>"
      ],
      "text/plain": [
       "   Item Popularity  counts  log_Item_Popularity\n",
       "0                1     141             0.000000\n",
       "1                2      68             0.301030\n",
       "2                3      60             0.477121\n",
       "3                4      64             0.602060\n",
       "4                5      51             0.698970"
      ]
     },
     "execution_count": 9,
     "metadata": {},
     "output_type": "execute_result"
    }
   ],
   "source": [
    "sum_movie_rating[\"log_Item_Popularity\"] = np.log10(sum_movie_rating[\"Item Popularity\"])\n",
    "print(sum_movie_rating)\n",
    "print(type(sum_movie_rating))\n",
    "\n",
    "sum_movie_rating.head()"
   ]
  },
  {
   "cell_type": "code",
   "execution_count": 10,
   "id": "fc006b7a",
   "metadata": {},
   "outputs": [
    {
     "data": {
      "image/png": "[encoded data removed]",
      "text/plain": [
       "<Figure size 600x600 with 3 Axes>"
      ]
     },
     "metadata": {},
     "output_type": "display_data"
    }
   ],
   "source": [
    "import seaborn as sns\n",
    "\n",
    "sns.set_style(\"whitegrid\")\n",
    "axe = sns.jointplot(x = \"log_Item_Popularity\",y = \"counts\",data = sum_movie_rating)"
   ]
  },
  {
   "cell_type": "code",
   "execution_count": 11,
   "id": "6d755d5b",
   "metadata": {
    "scrolled": false
   },
   "outputs": [
    {
     "data": {
      "text/plain": [
       "Text(0.5, 1.0, '')"
      ]
     },
     "execution_count": 11,
     "metadata": {},
     "output_type": "execute_result"
    },
    {
     "data": {
      "image/png": "[encoded data removed]",
      "text/plain": [
       "<Figure size 600x600 with 3 Axes>"
      ]
     },
     "metadata": {},
     "output_type": "display_data"
    }
   ],
   "source": [
    "import seaborn as sns\n",
    "import matplotlib.pyplot as plt\n",
    "\n",
    "item_popularity = movielen_df.groupby([\"userID\"],as_index = False).count()\n",
    "item_popularity.rename(mapper = {\"movieID\" : \"movie_count\"},axis = 1,inplace = True)\n",
    "item_popularity = item_popularity.groupby([\"movie_count\"],as_index = False).count()\n",
    "item_popularity.rename(mapper = {\"userID\" : \"user_count\"},axis = 1,inplace = True)\n",
    "item_popularity[\"log_movie_count\"] = np.log10(item_popularity.movie_count)\n",
    "\n",
    "sns.set_style(\"whitegrid\")\n",
    "\n",
    "sns.jointplot(data = item_popularity,x = \"log_movie_count\",y = \"user_count\")\n",
    "plt.title(\"\")"
   ]
  },
  {
   "cell_type": "markdown",
   "id": "86b15d13",
   "metadata": {},
   "source": [
    "### 用户活跃度和物品流行度的关系"
   ]
  },
  {
   "cell_type": "code",
   "execution_count": 12,
   "id": "b68af77f",
   "metadata": {
    "scrolled": true
   },
   "outputs": [
    {
     "data": {
      "text/plain": [
       "<seaborn.axisgrid.JointGrid at 0x2d929e40490>"
      ]
     },
     "execution_count": 12,
     "metadata": {},
     "output_type": "execute_result"
    },
    {
     "data": {
      "image/png": "[encoded data removed]",
      "text/plain": [
       "<Figure size 600x600 with 3 Axes>"
      ]
     },
     "metadata": {},
     "output_type": "display_data"
    }
   ],
   "source": [
    "import seaborn as sns\n",
    "\n",
    "user_activity = movielen_df[[\"userID\",\"movieID\"]].groupby(\"userID\").count()\n",
    "user_activity.rename({\"movieID\" : \"user_activity\"},axis = 1,inplace = True)\n",
    "\n",
    "movie_popularity = (movielen_df[[\"userID\",\"movieID\"]].\n",
    "                                groupby(\"movieID\",as_index = False).count())\n",
    "movie_popularity.rename({\"userID\" : \"movie_popularity\"},axis = 1,inplace = True)\n",
    "\n",
    "\n",
    "combine = pd.merge(left = movielen_df,right = user_activity,on = \"userID\")\n",
    "combine = pd.merge(left = combine,right = movie_popularity,on = \"movieID\")\n",
    "\n",
    "# print(\"前\\n\", combine)\n",
    "\n",
    "combine = combine.groupby([\"user_activity\"],as_index = False).mean()\n",
    "# print(\"后\\n\", combine)\n",
    "\n",
    "sns.set_style(\"whitegrid\")\n",
    "sns.jointplot(data = combine,x = \"user_activity\",y = \"movie_popularity\")"
   ]
  },
  {
   "cell_type": "markdown",
   "id": "f3d9404a",
   "metadata": {},
   "source": [
    "## 基于邻域的方法"
   ]
  },
  {
   "cell_type": "markdown",
   "id": "8f68621d",
   "metadata": {},
   "source": [
    "### USERCF"
   ]
  },
  {
   "cell_type": "code",
   "execution_count": 13,
   "id": "6cd039d4",
   "metadata": {},
   "outputs": [],
   "source": [
    "# 导入相关的包\n",
    "from RecommendSystemUserCF.recommender import user_cf\n",
    "from RecommendSystemUserCF.utils import data_reader"
   ]
  },
  {
   "cell_type": "markdown",
   "id": "f0500813",
   "metadata": {},
   "source": [
    "#### 加载数据"
   ]
  },
  {
   "cell_type": "code",
   "execution_count": 14,
   "id": "2e8a5546",
   "metadata": {},
   "outputs": [],
   "source": [
    "# 划分数据集 训练集\n",
    "train_set, test_set = data_reader.read_rating_data(train_rate=0.8)"
   ]
  },
  {
   "cell_type": "markdown",
   "id": "6f641798",
   "metadata": {},
   "source": [
    "#### 训练模型"
   ]
  },
  {
   "cell_type": "code",
   "execution_count": 15,
   "id": "161601f1",
   "metadata": {},
   "outputs": [
    {
     "name": "stdout",
     "output_type": "stream",
     "text": [
      "正在初始化数据...\n",
      "初始化数据完毕。\n"
     ]
    },
    {
     "name": "stderr",
     "output_type": "stream",
     "text": [
      "开始模型训练...\n",
      "开始载入用户协同矩阵...\n",
      "载入用户协同矩阵完成。\n",
      "开始保存用户协同矩阵\n"
     ]
    },
    {
     "name": "stdout",
     "output_type": "stream",
     "text": [
      "模型训练完毕\n"
     ]
    },
    {
     "name": "stderr",
     "output_type": "stream",
     "text": [
      "保存用户协同矩阵完成\n"
     ]
    }
   ],
   "source": [
    "uf = user_cf.UserCF()\n",
    "uf.train(train_set)"
   ]
  },
  {
   "cell_type": "markdown",
   "id": "5ea6c1a9",
   "metadata": {},
   "source": [
    "#### 评估模型"
   ]
  },
  {
   "cell_type": "code",
   "execution_count": 16,
   "id": "026e7599",
   "metadata": {},
   "outputs": [],
   "source": [
    "test = dict()\n",
    "for user, item, _ in test_set:\n",
    "    test.setdefault(user, list())\n",
    "    test[user].append(item)"
   ]
  },
  {
   "cell_type": "code",
   "execution_count": 17,
   "id": "c4d002dd",
   "metadata": {},
   "outputs": [],
   "source": [
    "def train_popularity(train):\n",
    "    \"\"\"计算训练集流行度\n",
    "    \n",
    "    :param train: 训练集\n",
    "    :return: 字典 {项目: 项目的流行度}\n",
    "    \"\"\"\n",
    "    train_popularity = dict()\n",
    "    for user, item, _ in train:\n",
    "        train_popularity.setdefault(item, 0)\n",
    "        train_popularity[item] += 1\n",
    "    return train_popularity"
   ]
  },
  {
   "cell_type": "code",
   "execution_count": 18,
   "id": "b1eb80c9",
   "metadata": {},
   "outputs": [
    {
     "ename": "ModuleNotFoundError",
     "evalue": "No module named 'utils'",
     "output_type": "error",
     "traceback": [
      "\u001b[1;31m---------------------------------------------------------------------------\u001b[0m",
      "\u001b[1;31mModuleNotFoundError\u001b[0m                       Traceback (most recent call last)",
      "Cell \u001b[1;32mIn[18], line 1\u001b[0m\n\u001b[1;32m----> 1\u001b[0m \u001b[38;5;28;01mfrom\u001b[39;00m \u001b[38;5;21;01mutils\u001b[39;00m \u001b[38;5;28;01mimport\u001b[39;00m metric\n\u001b[0;32m      2\u001b[0m \u001b[38;5;28;01mfrom\u001b[39;00m \u001b[38;5;21;01mutils\u001b[39;00m \u001b[38;5;28;01mimport\u001b[39;00m data_reader\n\u001b[0;32m      3\u001b[0m \u001b[38;5;28;01mimport\u001b[39;00m \u001b[38;5;21;01mpandas\u001b[39;00m \u001b[38;5;28;01mas\u001b[39;00m \u001b[38;5;21;01mpd\u001b[39;00m\n",
      "\u001b[1;31mModuleNotFoundError\u001b[0m: No module named 'utils'"
     ]
    }
   ],
   "source": [
    "from RecommendSystemUserCF.utils import metric\n",
    "from RecommendSystemUserCF.utils import data_reader\n",
    "import pandas as pd"
   ]
  },
  {
   "cell_type": "code",
   "execution_count": null,
   "id": "186bc64c",
   "metadata": {},
   "outputs": [],
   "source": [
    "def evaluate(N, K):\n",
    "    \"\"\"评价模型\n",
    "    \n",
    "    :param N: top-N 推荐的商品个数\n",
    "    :param K: 搜索邻近的用户个数\n",
    "    :retutn: tuple类型 (精确率 召回率 覆盖率 流行度)\n",
    "    \"\"\"\n",
    "    \n",
    "    recommends = uf.recommend_users(test.keys(), N=N, K=K)\n",
    "    all_items = data_reader.all_items()\n",
    "    item_popularity = train_popularity(train_set)\n",
    "    \n",
    "    recall = metric.recall(recommends=recommends, tests=test)\n",
    "    precision = metric.precision(recommends=recommends, tests=test)\n",
    "    coverage= metric.coverage(recommends=recommends, all_items=all_items)\n",
    "    popularity = metric.popularity(item_popular=item_popularity, recommends=recommends)\n",
    "    \n",
    "    return precision, recall, coverage, popularity"
   ]
  },
  {
   "cell_type": "code",
   "execution_count": null,
   "id": "9e55234b",
   "metadata": {},
   "outputs": [],
   "source": [
    "N = 30\n",
    "K_list = [5, 10, 20, 40, 80, 160]\n",
    "evals = []\n",
    "for k in K_list:\n",
    "    single_eval = evaluate(N, k)\n",
    "    evals.append(single_eval)\n",
    "    \n",
    "pd.DataFrame(\n",
    "    data = evals,\n",
    "    index = K_list,\n",
    "    columns = [\"Precision\", \"Recall\", \"Coverage\", \"Popularity\"]\n",
    ")"
   ]
  },
  {
   "cell_type": "code",
   "execution_count": null,
   "id": "39385f37",
   "metadata": {},
   "outputs": [],
   "source": []
  },
  {
   "cell_type": "code",
   "execution_count": null,
   "id": "d98fc8e8",
   "metadata": {},
   "outputs": [],
   "source": []
  },
  {
   "cell_type": "code",
   "execution_count": null,
   "id": "bf7d6f79",
   "metadata": {},
   "outputs": [],
   "source": []
  }
 ],
 "metadata": {
  "kernelspec": {
   "display_name": "Python 3 (ipykernel)",
   "language": "python",
   "name": "python3"
  },
  "language_info": {
   "codemirror_mode": {
    "name": "ipython",
    "version": 3
   },
   "file_extension": ".py",
   "mimetype": "text/x-python",
   "name": "python",
   "nbconvert_exporter": "python",
   "pygments_lexer": "ipython3",
   "version": "3.11.5"
  },
  "toc": {
   "base_numbering": 1,
   "nav_menu": {},
   "number_sections": true,
   "sideBar": true,
   "skip_h1_title": false,
   "title_cell": "Table of Contents",
   "title_sidebar": "Contents",
   "toc_cell": false,
   "toc_position": {
    "height": "calc(100% - 180px)",
    "left": "10px",
    "top": "150px",
    "width": "248.25px"
   },
   "toc_section_display": true,
   "toc_window_display": false
  }
 },
 "nbformat": 4,
 "nbformat_minor": 5
}
