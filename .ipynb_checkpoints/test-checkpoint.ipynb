{
 "cells": [
  {
   "cell_type": "code",
   "execution_count": 1,
   "id": "8cbe178e",
   "metadata": {},
   "outputs": [
    {
     "name": "stdout",
     "output_type": "stream",
     "text": [
      "196 242 3\n",
      "186 302 3\n",
      "22 377 1\n",
      "244 51 2\n",
      "166 346 1\n",
      "298 474 4\n",
      "115 265 2\n",
      "253 465 5\n",
      "305 451 3\n",
      "6 86 3\n",
      "62 257 2\n"
     ]
    }
   ],
   "source": [
    "# import test\n",
    "# i = 0\n",
    "# for item in test.load_file(\"./data/ml-100k/u.data\"):\n",
    "#     items = item.replace(\"\\t\", \",\")\n",
    "#     a,b,c,_ = items.split(\",\")\n",
    "#     print(a,b,c)\n",
    "#     i+=1\n",
    "#     if i > 10:\n",
    "#         break"
   ]
  },
  {
   "cell_type": "code",
   "execution_count": 2,
   "id": "a4bf55ed",
   "metadata": {},
   "outputs": [],
   "source": [
    "# import recommender.user_cf"
   ]
  },
  {
   "cell_type": "code",
   "execution_count": 3,
   "id": "d561b25b",
   "metadata": {},
   "outputs": [
    {
     "name": "stdout",
     "output_type": "stream",
     "text": [
      "D:\\CSProjects\\JupyterProjects\\Recommender Sysytem\\RecommendSystem\n"
     ]
    }
   ],
   "source": [
    "import test\n",
    "test.main()"
   ]
  },
  {
   "cell_type": "code",
   "execution_count": 1,
   "id": "08d9e97b",
   "metadata": {},
   "outputs": [
    {
     "name": "stderr",
     "output_type": "stream",
     "text": [
      "D:\\CSProjects\\JupyterProjects\\Recommender Sysytem\\RecommendSystem\n"
     ]
    }
   ],
   "source": [
    "import os\n",
    "import sys\n",
    "\n",
    "print(os.getcwd(), file=sys.stderr)"
   ]
  }
 ],
 "metadata": {
  "kernelspec": {
   "display_name": "Python 3 (ipykernel)",
   "language": "python",
   "name": "python3"
  },
  "language_info": {
   "codemirror_mode": {
    "name": "ipython",
    "version": 3
   },
   "file_extension": ".py",
   "mimetype": "text/x-python",
   "name": "python",
   "nbconvert_exporter": "python",
   "pygments_lexer": "ipython3",
   "version": "3.11.5"
  },
  "toc": {
   "base_numbering": 1,
   "nav_menu": {},
   "number_sections": true,
   "sideBar": true,
   "skip_h1_title": false,
   "title_cell": "Table of Contents",
   "title_sidebar": "Contents",
   "toc_cell": false,
   "toc_position": {},
   "toc_section_display": true,
   "toc_window_display": false
  }
 },
 "nbformat": 4,
 "nbformat_minor": 5
}
