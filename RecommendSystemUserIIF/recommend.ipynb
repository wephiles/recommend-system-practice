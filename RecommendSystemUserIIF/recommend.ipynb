{
 "cells": [
  {
   "cell_type": "markdown",
   "id": "c70f373f",
   "metadata": {},
   "source": [
    "# User-IIF"
   ]
  },
  {
   "cell_type": "markdown",
   "id": "1b78e795",
   "metadata": {},
   "source": [
    "在User-CF的基础上考虑了物品的流行度，流行度越大，惩罚力度越大。\n",
    "相似度：$$w_{uv}=\n",
    "\\frac{\\sum_{i\\in{N(u)\\bigcap{N(v)}}}{\\frac{1}{log(1 + |N(i)|)}}}\n",
    "{\\sqrt{|N(u)||N(v)|}}$$"
   ]
  },
  {
   "cell_type": "markdown",
   "id": "c72d4f85",
   "metadata": {},
   "source": [
    "## 载入数据"
   ]
  },
  {
   "cell_type": "code",
   "execution_count": null,
   "id": "79b3d554",
   "metadata": {},
   "outputs": [],
   "source": [
    "from recommend import user_iif\n",
    "from imp import reload\n",
    "from util import data_reader"
   ]
  },
  {
   "cell_type": "code",
   "execution_count": null,
   "id": "72197cf0",
   "metadata": {},
   "outputs": [],
   "source": []
  },
  {
   "cell_type": "code",
   "execution_count": null,
   "id": "af9f9a21",
   "metadata": {},
   "outputs": [],
   "source": []
  },
  {
   "cell_type": "code",
   "execution_count": null,
   "id": "69f9c12d",
   "metadata": {},
   "outputs": [],
   "source": []
  },
  {
   "cell_type": "code",
   "execution_count": null,
   "id": "331a812c",
   "metadata": {},
   "outputs": [],
   "source": []
  },
  {
   "cell_type": "code",
   "execution_count": null,
   "id": "7ee7eef3",
   "metadata": {},
   "outputs": [],
   "source": []
  },
  {
   "cell_type": "code",
   "execution_count": null,
   "id": "0cf0d651",
   "metadata": {},
   "outputs": [],
   "source": []
  },
  {
   "cell_type": "code",
   "execution_count": null,
   "id": "fd377cff",
   "metadata": {},
   "outputs": [],
   "source": []
  },
  {
   "cell_type": "code",
   "execution_count": null,
   "id": "daa35cbf",
   "metadata": {},
   "outputs": [],
   "source": []
  },
  {
   "cell_type": "code",
   "execution_count": null,
   "id": "0f07e34c",
   "metadata": {},
   "outputs": [],
   "source": []
  }
 ],
 "metadata": {
  "kernelspec": {
   "display_name": "Python 3 (ipykernel)",
   "language": "python",
   "name": "python3"
  },
  "language_info": {
   "codemirror_mode": {
    "name": "ipython",
    "version": 3
   },
   "file_extension": ".py",
   "mimetype": "text/x-python",
   "name": "python",
   "nbconvert_exporter": "python",
   "pygments_lexer": "ipython3",
   "version": "3.11.5"
  },
  "toc": {
   "base_numbering": 1,
   "nav_menu": {},
   "number_sections": true,
   "sideBar": true,
   "skip_h1_title": false,
   "title_cell": "Table of Contents",
   "title_sidebar": "Contents",
   "toc_cell": false,
   "toc_position": {
    "height": "calc(100% - 180px)",
    "left": "10px",
    "top": "150px",
    "width": "256.2px"
   },
   "toc_section_display": true,
   "toc_window_display": true
  }
 },
 "nbformat": 4,
 "nbformat_minor": 5
}
